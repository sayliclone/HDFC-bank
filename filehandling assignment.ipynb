{
 "cells": [
  {
   "cell_type": "code",
   "execution_count": null,
   "id": "d0722744",
   "metadata": {},
   "outputs": [],
   "source": [
    "1. copy from file1 into file 2"
   ]
  },
  {
   "cell_type": "code",
   "execution_count": 12,
   "id": "8fb10382",
   "metadata": {},
   "outputs": [
    {
     "name": "stdout",
     "output_type": "stream",
     "text": [
      "copied data successfully\n"
     ]
    }
   ],
   "source": [
    "def copy_data():\n",
    "    with open('file.txt','r')as file1:\n",
    "         cp_data=file1.read()\n",
    "    with open('file2.txt','w') as file_paste:\n",
    "         file_paste.write(cp_data)\n",
    "    print(\"copied data successfully\")\n",
    "copy_data()"
   ]
  },
  {
   "cell_type": "code",
   "execution_count": 6,
   "id": "9342ea27",
   "metadata": {},
   "outputs": [],
   "source": [
    "ASCII_code=[]\n",
    "\n"
   ]
  },
  {
   "cell_type": "code",
   "execution_count": null,
   "id": "5d15ef71",
   "metadata": {},
   "outputs": [],
   "source": [
    "def ASCII_convert(A):\n",
    "    ASCII_code=[]\n",
    "    for values in (A):\n",
    "        ASCII_code= odr(values)\n",
    "        ASCII_code.append(ASCII_code)\n",
    "    return ASCII_code\n"
   ]
  }
 ],
 "metadata": {
  "kernelspec": {
   "display_name": "Python 3 (ipykernel)",
   "language": "python",
   "name": "python3"
  },
  "language_info": {
   "codemirror_mode": {
    "name": "ipython",
    "version": 3
   },
   "file_extension": ".py",
   "mimetype": "text/x-python",
   "name": "python",
   "nbconvert_exporter": "python",
   "pygments_lexer": "ipython3",
   "version": "3.11.5"
  }
 },
 "nbformat": 4,
 "nbformat_minor": 5
}
