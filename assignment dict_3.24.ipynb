{
 "cells": [
  {
   "cell_type": "code",
   "execution_count": 6,
   "id": "0ab432d5",
   "metadata": {},
   "outputs": [],
   "source": [
    "event={  \n",
    "   \"Records\":[  \n",
    "      {  \n",
    "         \"eventVersion\":\"2.2\",\n",
    "         \"eventSource\":\"aws:s3\",\n",
    "         \"awsRegion\":\"us-west-2\",\n",
    "         \"eventTime\":\"The time, in ISO-8601 format, for example, 1970-01-01T00:00:00.000Z, when Amazon S3 finished processing the request\",\n",
    "         \"eventName\":\"event-type\",\n",
    "         \"userIdentity\":{  \n",
    "            \"principalId\":\"Amazon-customer-ID-of-the-user-who-caused-the-event\"\n",
    "         },\n",
    "         \"requestParameters\":{  \n",
    "            \"sourceIPAddress\":\"ip-address-where-request-came-from\"\n",
    "         },\n",
    "         \"responseElements\":{  \n",
    "            \"x-amz-request-id\":\"Amazon S3 generated request ID\",\n",
    "            \"x-amz-id-2\":\"Amazon S3 host that processed the request\"\n",
    "         },\n",
    "         \"s3\":{  \n",
    "            \"s3SchemaVersion\":\"1.0\",\n",
    "            \"configurationId\":\"ID found in the bucket notification configuration\",\n",
    "            \"bucket\":{  \n",
    "               \"name\":\"bucket-name\",\n",
    "               \"ownerIdentity\":{  \n",
    "                  \"principalId\":\"Amazon-customer-ID-of-the-bucket-owner\"\n",
    "               },\n",
    "               \"arn\":\"bucket-ARN\"\n",
    "            },\n",
    "            \"object\":{  \n",
    "               \"key\":\"object-key\",\n",
    "               \"size\":\"object-size in bytes\",\n",
    "               \"eTag\":\"object eTag\",\n",
    "               \"versionId\":\"object version if bucket is versioning-enabled, otherwise null\",\n",
    "               \"sequencer\": \"a string representation of a hexadecimal value used to determine event sequence, only used with PUTs and DELETEs\"\n",
    "            }\n",
    "         },\n",
    "         \"glacierEventData\": {\n",
    "            \"restoreEventData\": {\n",
    "               \"lifecycleRestorationExpiryTime\": \"The time, in ISO-8601 format, for example, 1970-01-01T00:00:00.000Z, of Restore Expiry\",\n",
    "               \"lifecycleRestoreStorageClass\": \"Source storage class for restore\"\n",
    "            }\n",
    "         }\n",
    "      }\n",
    "   ]\n",
    "}"
   ]
  },
  {
   "cell_type": "code",
   "execution_count": 7,
   "id": "372ad4e9",
   "metadata": {},
   "outputs": [
    {
     "data": {
      "text/plain": [
       "{'Records': [{'eventVersion': '2.2',\n",
       "   'eventSource': 'aws:s3',\n",
       "   'awsRegion': 'us-west-2',\n",
       "   'eventTime': 'The time, in ISO-8601 format, for example, 1970-01-01T00:00:00.000Z, when Amazon S3 finished processing the request',\n",
       "   'eventName': 'event-type',\n",
       "   'userIdentity': {'principalId': 'Amazon-customer-ID-of-the-user-who-caused-the-event'},\n",
       "   'requestParameters': {'sourceIPAddress': 'ip-address-where-request-came-from'},\n",
       "   'responseElements': {'x-amz-request-id': 'Amazon S3 generated request ID',\n",
       "    'x-amz-id-2': 'Amazon S3 host that processed the request'},\n",
       "   's3': {'s3SchemaVersion': '1.0',\n",
       "    'configurationId': 'ID found in the bucket notification configuration',\n",
       "    'bucket': {'name': 'bucket-name',\n",
       "     'ownerIdentity': {'principalId': 'Amazon-customer-ID-of-the-bucket-owner'},\n",
       "     'arn': 'bucket-ARN'},\n",
       "    'object': {'key': 'object-key',\n",
       "     'size': 'object-size in bytes',\n",
       "     'eTag': 'object eTag',\n",
       "     'versionId': 'object version if bucket is versioning-enabled, otherwise null',\n",
       "     'sequencer': 'a string representation of a hexadecimal value used to determine event sequence, only used with PUTs and DELETEs'}},\n",
       "   'glacierEventData': {'restoreEventData': {'lifecycleRestorationExpiryTime': 'The time, in ISO-8601 format, for example, 1970-01-01T00:00:00.000Z, of Restore Expiry',\n",
       "     'lifecycleRestoreStorageClass': 'Source storage class for restore'}}}]}"
      ]
     },
     "execution_count": 7,
     "metadata": {},
     "output_type": "execute_result"
    }
   ],
   "source": [
    "event"
   ]
  },
  {
   "cell_type": "code",
   "execution_count": 12,
   "id": "9ea66c45",
   "metadata": {},
   "outputs": [
    {
     "data": {
      "text/plain": [
       "'object-key'"
      ]
     },
     "execution_count": 12,
     "metadata": {},
     "output_type": "execute_result"
    }
   ],
   "source": [
    "event['Records'][0]['s3']['object']['key']"
   ]
  },
  {
   "cell_type": "code",
   "execution_count": 17,
   "id": "7d26f17e",
   "metadata": {},
   "outputs": [
    {
     "data": {
      "text/plain": [
       "'object eTag'"
      ]
     },
     "execution_count": 17,
     "metadata": {},
     "output_type": "execute_result"
    }
   ],
   "source": [
    "event['Records'][0]['s3']['object']['eTag']"
   ]
  },
  {
   "cell_type": "code",
   "execution_count": 24,
   "id": "f348c8ae",
   "metadata": {},
   "outputs": [
    {
     "data": {
      "text/plain": [
       "'Amazon S3 generated request ID'"
      ]
     },
     "execution_count": 24,
     "metadata": {},
     "output_type": "execute_result"
    }
   ],
   "source": [
    "event['Records'][0]['responseElements']['x-amz-request-id']"
   ]
  },
  {
   "cell_type": "code",
   "execution_count": 31,
   "id": "04b986f5",
   "metadata": {},
   "outputs": [
    {
     "data": {
      "text/plain": [
       "'Source storage class for restore'"
      ]
     },
     "execution_count": 31,
     "metadata": {},
     "output_type": "execute_result"
    }
   ],
   "source": [
    "event['Records'][0]['glacierEventData']['restoreEventData']['lifecycleRestoreStorageClass']"
   ]
  },
  {
   "cell_type": "code",
   "execution_count": 37,
   "id": "eb22a599",
   "metadata": {},
   "outputs": [
    {
     "data": {
      "text/plain": [
       "'1.0'"
      ]
     },
     "execution_count": 37,
     "metadata": {},
     "output_type": "execute_result"
    }
   ],
   "source": [
    "event['Records'][0]['s3']['s3SchemaVersion']"
   ]
  },
  {
   "cell_type": "code",
   "execution_count": 42,
   "id": "122a5c87",
   "metadata": {},
   "outputs": [
    {
     "data": {
      "text/plain": [
       "'object version if bucket is versioning-enabled, otherwise null'"
      ]
     },
     "execution_count": 42,
     "metadata": {},
     "output_type": "execute_result"
    }
   ],
   "source": [
    "event['Records'][0]['s3']['object']['versionId']"
   ]
  },
  {
   "cell_type": "code",
   "execution_count": 53,
   "id": "8df74984",
   "metadata": {},
   "outputs": [
    {
     "data": {
      "text/plain": [
       "'Amazon-customer-ID-of-the-user-who-caused-the-event'"
      ]
     },
     "execution_count": 53,
     "metadata": {},
     "output_type": "execute_result"
    }
   ],
   "source": [
    "event['Records'][0]['userIdentity']['principalId']"
   ]
  },
  {
   "cell_type": "code",
   "execution_count": null,
   "id": "d1c3b417",
   "metadata": {},
   "outputs": [],
   "source": []
  }
 ],
 "metadata": {
  "kernelspec": {
   "display_name": "Python 3 (ipykernel)",
   "language": "python",
   "name": "python3"
  },
  "language_info": {
   "codemirror_mode": {
    "name": "ipython",
    "version": 3
   },
   "file_extension": ".py",
   "mimetype": "text/x-python",
   "name": "python",
   "nbconvert_exporter": "python",
   "pygments_lexer": "ipython3",
   "version": "3.11.5"
  }
 },
 "nbformat": 4,
 "nbformat_minor": 5
}
